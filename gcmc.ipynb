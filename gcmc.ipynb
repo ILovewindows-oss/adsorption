{
 "metadata": {
  "language_info": {
   "codemirror_mode": {
    "name": "ipython",
    "version": 3
   },
   "file_extension": ".py",
   "mimetype": "text/x-python",
   "name": "python",
   "nbconvert_exporter": "python",
   "pygments_lexer": "ipython3",
   "version": 3
  },
  "orig_nbformat": 2,
  "kernelspec": {
   "name": "julia-1.6",
   "display_name": "Julia 1.6.1",
   "language": "julia"
  }
 },
 "nbformat": 4,
 "nbformat_minor": 2,
 "cells": [
  {
   "cell_type": "code",
   "execution_count": 1,
   "metadata": {},
   "outputs": [
    {
     "output_type": "stream",
     "name": "stderr",
     "text": [
      "┌ Warning: ORCA.jl has been deprecated and all savefig functionality\n│ has been implemented directly in PlotlyBase itself.\n│ \n│ By implementing in PlotlyBase.jl, the savefig routines are automatically\n│ available to PlotlyJS.jl also.\n└ @ ORCA /home/sync/.julia/packages/ORCA/U5XaN/src/ORCA.jl:8\n"
     ]
    },
    {
     "output_type": "execute_result",
     "data": {
      "text/plain": [
       "Plots.PlotlyBackend()"
      ]
     },
     "metadata": {},
     "execution_count": 1
    }
   ],
   "source": [
    "using PorousMaterials, Plots, JSON, DataFrames, CSV\n",
    "plotly()"
   ]
  },
  {
   "cell_type": "code",
   "execution_count": 2,
   "metadata": {},
   "outputs": [
    {
     "output_type": "execute_result",
     "data": {
      "text/plain": [
       "Molecule species: Xe\n",
       "Center of mass (fractional coords): Cart([0.0; 0.0; 0.0])\n",
       "Atoms:\n",
       "\n",
       "\tatom = Xe, x = [0.000, 0.000, 0.000]"
      ]
     },
     "metadata": {},
     "execution_count": 2
    }
   ],
   "source": [
    "sbmof1 = Crystal(\"SBMOF-1.cif\")\n",
    "sbmof2 = Crystal(\"SBMOF-2.cssr\")\n",
    "forcefield = LJForceField(\"UFF\", r_cutoff=12.8)\n",
    "molecule = Molecule(\"Xe\")"
   ]
  },
  {
   "cell_type": "code",
   "execution_count": 3,
   "metadata": {},
   "outputs": [
    {
     "output_type": "execute_result",
     "data": {
      "text/plain": [
       "\u001b[1m16×3 DataFrame\u001b[0m\n",
       "\u001b[1m Row \u001b[0m│\u001b[1m pressure \u001b[0m\u001b[1m mass_xe   \u001b[0m\u001b[1m loading     \u001b[0m\n",
       "\u001b[1m     \u001b[0m│\u001b[90m Float64  \u001b[0m\u001b[90m Float64   \u001b[0m\u001b[90m Float64     \u001b[0m\n",
       "─────┼──────────────────────────────────\n",
       "   1 │ 6.3e-5    0.0364861  3.04662e-7\n",
       "   2 │ 0.000222  0.0364888  0.000597062\n",
       "   3 │ 0.000398  0.03651    0.00506181\n",
       "   4 │ 0.00058   0.0365438  0.0121557\n",
       "   5 │ 0.000803  0.0365881  0.0214634\n",
       "   6 │ 0.000985  0.0366281  0.0298717\n",
       "   7 │ 0.004966  0.0374443  0.201338\n",
       "   8 │ 0.009976  0.0382979  0.380808\n",
       "   9 │ 0.01999   0.0394357  0.620555\n",
       "  10 │ 0.049992  0.0408878  0.929417\n",
       "  11 │ 0.075125  0.0414158  1.04407\n",
       "  12 │ 0.103119  0.0417329  1.11505\n",
       "  13 │ 0.200047  0.0421705  1.22269\n",
       "  14 │ 0.493105  0.0424405  1.32772\n",
       "  15 │ 0.804104  0.0424386  1.37884\n",
       "  16 │ 0.99905   0.042462   1.38397"
      ],
      "text/html": "<table class=\"data-frame\"><thead><tr><th></th><th>pressure</th><th>mass_xe</th><th>loading</th></tr><tr><th></th><th>Float64</th><th>Float64</th><th>Float64</th></tr></thead><tbody><p>16 rows × 3 columns</p><tr><th>1</th><td>6.3e-5</td><td>0.0364861</td><td>3.04662e-7</td></tr><tr><th>2</th><td>0.000222</td><td>0.0364888</td><td>0.000597062</td></tr><tr><th>3</th><td>0.000398</td><td>0.03651</td><td>0.00506181</td></tr><tr><th>4</th><td>0.00058</td><td>0.0365438</td><td>0.0121557</td></tr><tr><th>5</th><td>0.000803</td><td>0.0365881</td><td>0.0214634</td></tr><tr><th>6</th><td>0.000985</td><td>0.0366281</td><td>0.0298717</td></tr><tr><th>7</th><td>0.004966</td><td>0.0374443</td><td>0.201338</td></tr><tr><th>8</th><td>0.009976</td><td>0.0382979</td><td>0.380808</td></tr><tr><th>9</th><td>0.01999</td><td>0.0394357</td><td>0.620555</td></tr><tr><th>10</th><td>0.049992</td><td>0.0408878</td><td>0.929417</td></tr><tr><th>11</th><td>0.075125</td><td>0.0414158</td><td>1.04407</td></tr><tr><th>12</th><td>0.103119</td><td>0.0417329</td><td>1.11505</td></tr><tr><th>13</th><td>0.200047</td><td>0.0421705</td><td>1.22269</td></tr><tr><th>14</th><td>0.493105</td><td>0.0424405</td><td>1.32772</td></tr><tr><th>15</th><td>0.804104</td><td>0.0424386</td><td>1.37884</td></tr><tr><th>16</th><td>0.99905</td><td>0.042462</td><td>1.38397</td></tr></tbody></table>",
      "text/latex": "\\begin{tabular}{r|ccc}\n\t& pressure & mass\\_xe & loading\\\\\n\t\\hline\n\t& Float64 & Float64 & Float64\\\\\n\t\\hline\n\t1 & 6.3e-5 & 0.0364861 & 3.04662e-7 \\\\\n\t2 & 0.000222 & 0.0364888 & 0.000597062 \\\\\n\t3 & 0.000398 & 0.03651 & 0.00506181 \\\\\n\t4 & 0.00058 & 0.0365438 & 0.0121557 \\\\\n\t5 & 0.000803 & 0.0365881 & 0.0214634 \\\\\n\t6 & 0.000985 & 0.0366281 & 0.0298717 \\\\\n\t7 & 0.004966 & 0.0374443 & 0.201338 \\\\\n\t8 & 0.009976 & 0.0382979 & 0.380808 \\\\\n\t9 & 0.01999 & 0.0394357 & 0.620555 \\\\\n\t10 & 0.049992 & 0.0408878 & 0.929417 \\\\\n\t11 & 0.075125 & 0.0414158 & 1.04407 \\\\\n\t12 & 0.103119 & 0.0417329 & 1.11505 \\\\\n\t13 & 0.200047 & 0.0421705 & 1.22269 \\\\\n\t14 & 0.493105 & 0.0424405 & 1.32772 \\\\\n\t15 & 0.804104 & 0.0424386 & 1.37884 \\\\\n\t16 & 0.99905 & 0.042462 & 1.38397 \\\\\n\\end{tabular}\n"
     },
     "metadata": {},
     "execution_count": 3
    }
   ],
   "source": [
    "df1 = CSV.File(\"data/sbmof1-xe-data.csv\") |> \n",
    "     DataFrame |> \n",
    "     df -> select(\n",
    "        df, \n",
    "        \"P(mbar)\" => (x -> x / 1000) => :pressure,\n",
    "        \"Weight(mg)\" => (x -> x / 1000) => :mass_xe,\n",
    "        \"PercentMass\" => (x -> x / 100 / 131.293 * 1000) => :loading\n",
    "     )"
   ]
  },
  {
   "cell_type": "code",
   "execution_count": 4,
   "metadata": {},
   "outputs": [],
   "source": [
    "sbmof1_pressures = df1.pressure   # bar\n",
    "sbmof1_adsorptions = df1.loading;  # mmol/g"
   ]
  },
  {
   "cell_type": "code",
   "execution_count": 5,
   "metadata": {},
   "outputs": [
    {
     "output_type": "execute_result",
     "data": {
      "text/plain": [
       "\u001b[1m39×2 DataFrame\u001b[0m\n",
       "\u001b[1m Row \u001b[0m│\u001b[1m pressure   \u001b[0m\u001b[1m loading   \u001b[0m\n",
       "\u001b[1m     \u001b[0m│\u001b[90m Float64    \u001b[0m\u001b[90m Float64   \u001b[0m\n",
       "─────┼───────────────────────\n",
       "   1 │ 0.00406574  0.0423639\n",
       "   2 │ 0.00609899  0.0637722\n",
       "   3 │ 0.00812963  0.0850833\n",
       "   4 │ 0.00915304  0.0957083\n",
       "   5 │ 0.0101294   0.105825\n",
       "   6 │ 0.0202933   0.210264\n",
       "   7 │ 0.0300257   0.305586\n",
       "   8 │ 0.0402655   0.402003\n",
       "   9 │ 0.0492218   0.516198\n",
       "  10 │ 0.0504705   0.494483\n",
       "  11 │ 0.0988708   0.875671\n",
       "  ⋮  │     ⋮           ⋮\n",
       "  30 │ 0.759404    2.66614\n",
       "  31 │ 0.764265    2.65113\n",
       "  32 │ 0.815087    2.69583\n",
       "  33 │ 0.859609    2.74601\n",
       "  34 │ 0.866004    2.73556\n",
       "  35 │ 0.916896    2.77168\n",
       "  36 │ 0.956934    2.80817\n",
       "  37 │ 0.96786     2.80298\n",
       "  38 │ 1.00171     2.82885\n",
       "  39 │ 1.01348     2.8336\n",
       "\u001b[36m              18 rows omitted\u001b[0m"
      ],
      "text/html": "<table class=\"data-frame\"><thead><tr><th></th><th>pressure</th><th>loading</th></tr><tr><th></th><th>Float64</th><th>Float64</th></tr></thead><tbody><p>39 rows × 2 columns</p><tr><th>1</th><td>0.00406574</td><td>0.0423639</td></tr><tr><th>2</th><td>0.00609899</td><td>0.0637722</td></tr><tr><th>3</th><td>0.00812963</td><td>0.0850833</td></tr><tr><th>4</th><td>0.00915304</td><td>0.0957083</td></tr><tr><th>5</th><td>0.0101294</td><td>0.105825</td></tr><tr><th>6</th><td>0.0202933</td><td>0.210264</td></tr><tr><th>7</th><td>0.0300257</td><td>0.305586</td></tr><tr><th>8</th><td>0.0402655</td><td>0.402003</td></tr><tr><th>9</th><td>0.0492218</td><td>0.516198</td></tr><tr><th>10</th><td>0.0504705</td><td>0.494483</td></tr><tr><th>11</th><td>0.0988708</td><td>0.875671</td></tr><tr><th>12</th><td>0.151181</td><td>1.21242</td></tr><tr><th>13</th><td>0.155639</td><td>1.28144</td></tr><tr><th>14</th><td>0.20518</td><td>1.49078</td></tr><tr><th>15</th><td>0.249754</td><td>1.67913</td></tr><tr><th>16</th><td>0.252878</td><td>1.73002</td></tr><tr><th>17</th><td>0.300924</td><td>1.85908</td></tr><tr><th>18</th><td>0.351442</td><td>2.0422</td></tr><tr><th>19</th><td>0.353185</td><td>2.01067</td></tr><tr><th>20</th><td>0.40522</td><td>2.13778</td></tr><tr><th>21</th><td>0.456909</td><td>2.24468</td></tr><tr><th>22</th><td>0.459101</td><td>2.28132</td></tr><tr><th>23</th><td>0.50843</td><td>2.33658</td></tr><tr><th>24</th><td>0.558564</td><td>2.44378</td></tr><tr><th>25</th><td>0.559906</td><td>2.41573</td></tr><tr><th>26</th><td>0.611093</td><td>2.48567</td></tr><tr><th>27</th><td>0.658346</td><td>2.56817</td></tr><tr><th>28</th><td>0.662157</td><td>2.54689</td></tr><tr><th>29</th><td>0.713236</td><td>2.60217</td></tr><tr><th>30</th><td>0.759404</td><td>2.66614</td></tr><tr><th>&vellip;</th><td>&vellip;</td><td>&vellip;</td></tr></tbody></table>",
      "text/latex": "\\begin{tabular}{r|cc}\n\t& pressure & loading\\\\\n\t\\hline\n\t& Float64 & Float64\\\\\n\t\\hline\n\t1 & 0.00406574 & 0.0423639 \\\\\n\t2 & 0.00609899 & 0.0637722 \\\\\n\t3 & 0.00812963 & 0.0850833 \\\\\n\t4 & 0.00915304 & 0.0957083 \\\\\n\t5 & 0.0101294 & 0.105825 \\\\\n\t6 & 0.0202933 & 0.210264 \\\\\n\t7 & 0.0300257 & 0.305586 \\\\\n\t8 & 0.0402655 & 0.402003 \\\\\n\t9 & 0.0492218 & 0.516198 \\\\\n\t10 & 0.0504705 & 0.494483 \\\\\n\t11 & 0.0988708 & 0.875671 \\\\\n\t12 & 0.151181 & 1.21242 \\\\\n\t13 & 0.155639 & 1.28144 \\\\\n\t14 & 0.20518 & 1.49078 \\\\\n\t15 & 0.249754 & 1.67913 \\\\\n\t16 & 0.252878 & 1.73002 \\\\\n\t17 & 0.300924 & 1.85908 \\\\\n\t18 & 0.351442 & 2.0422 \\\\\n\t19 & 0.353185 & 2.01067 \\\\\n\t20 & 0.40522 & 2.13778 \\\\\n\t21 & 0.456909 & 2.24468 \\\\\n\t22 & 0.459101 & 2.28132 \\\\\n\t23 & 0.50843 & 2.33658 \\\\\n\t24 & 0.558564 & 2.44378 \\\\\n\t25 & 0.559906 & 2.41573 \\\\\n\t26 & 0.611093 & 2.48567 \\\\\n\t27 & 0.658346 & 2.56817 \\\\\n\t28 & 0.662157 & 2.54689 \\\\\n\t29 & 0.713236 & 2.60217 \\\\\n\t30 & 0.759404 & 2.66614 \\\\\n\t$\\dots$ & $\\dots$ & $\\dots$ \\\\\n\\end{tabular}\n"
     },
     "metadata": {},
     "execution_count": 5
    }
   ],
   "source": [
    "df2 = CSV.File(\"data/sbmof2-xe-data.csv\") |> \n",
    "     DataFrame |> \n",
    "     df -> select(\n",
    "        df,\n",
    "        \"P(torr)\" => (x -> x / 750.062) => :pressure,\n",
    "        \"L(ccSTP/g)\" => (x -> x / 22.4) => :loading\n",
    "     )"
   ]
  },
  {
   "cell_type": "code",
   "execution_count": 6,
   "metadata": {},
   "outputs": [],
   "source": [
    "sbmof2_pressures = df2.pressure   # bar\n",
    "sbmof2_adsorptions = df2.loading;  # mmol/g"
   ]
  },
  {
   "cell_type": "code",
   "execution_count": null,
   "metadata": {},
   "outputs": [],
   "source": [
    "sbmof1_results = stepwise_adsorption_isotherm(\n",
    "    sbmof1,\n",
    "    molecule,\n",
    "    298.,\n",
    "    sbmof1_pressures,\n",
    "    forcefield,\n",
    "    n_burn_cycles=5000,\n",
    "    n_sample_cycles=5000,\n",
    ");"
   ]
  },
  {
   "cell_type": "code",
   "execution_count": null,
   "metadata": {},
   "outputs": [],
   "source": [
    "sbmof2_results = stepwise_adsorption_isotherm(\n",
    "    sbmof2,\n",
    "    molecule,\n",
    "    298.,\n",
    "    sbmof2_pressures,\n",
    "    forcefield,\n",
    "    n_burn_cycles=5000,\n",
    "    n_sample_cycles=5000,\n",
    ");"
   ]
  },
  {
   "cell_type": "code",
   "execution_count": null,
   "metadata": {},
   "outputs": [],
   "source": [
    "sbmof1_sim_adsorptions = [r[\"⟨N⟩ (mmol/g)\"] for r in sbmof1_results]\n",
    "sbmof2_sim_adsorptions = [r[\"⟨N⟩ (mmol/g)\"] for r in sbmof2_results];"
   ]
  },
  {
   "cell_type": "code",
   "execution_count": 7,
   "metadata": {},
   "outputs": [],
   "source": [
    "sbmof1_sim_adsorptions = open(\"data/sbmof1-sim.json\", \"r\") do io\n",
    "    return [r[\"⟨N⟩ (mmol/g)\"] for r in JSON.parse(io)]\n",
    "end;"
   ]
  },
  {
   "cell_type": "code",
   "execution_count": 8,
   "metadata": {},
   "outputs": [],
   "source": [
    "sbmof2_sim_adsorptions = open(\"data/sbmof2-sim.json\", \"r\") do io\n",
    "    return [r[\"⟨N⟩ (mmol/g)\"] for r in JSON.parse(io)]\n",
    "end;"
   ]
  },
  {
   "cell_type": "code",
   "execution_count": 9,
   "metadata": {},
   "outputs": [
    {
     "output_type": "display_data",
     "data": {
      "text/html": "    <script type=\"text/javascript\">\n        requirejs([\"https://cdn.plot.ly/plotly-latest.min.js\"], function(p) {\n            window.Plotly = p\n        });\n    </script>\n"
     },
     "metadata": {}
    },
    {
     "output_type": "execute_result",
     "data": {
      "text/html": "<!DOCTYPE html>\n<html>\n    <head>\n        <title>Plots.jl</title>\n        <meta http-equiv=\"content-type\" content=\"text/html; charset=UTF-8\">\n        <script src=\"https://cdn.plot.ly/plotly-latest.min.js\"></script>\n    </head>\n    <body>\n            <div id=\"113e8b56-ae5e-44a5-9a03-6c6dbf6b8da7\" style=\"width:600px;height:400px;\"></div>\n    <script>\n    PLOT = document.getElementById('113e8b56-ae5e-44a5-9a03-6c6dbf6b8da7');\n    Plotly.plot(PLOT, [\n    {\n        \"xaxis\": \"x1\",\n        \"colorbar\": {\n            \"title\": \"\"\n        },\n        \"yaxis\": \"y1\",\n        \"x\": [\n            6.3e-5,\n            0.000222,\n            0.000398,\n            0.00058,\n            0.000803,\n            0.000985,\n            0.004966,\n            0.009976,\n            0.019989999999999997,\n            0.049991999999999995,\n            0.075125,\n            0.103119,\n            0.200047,\n            0.493105,\n            0.804104,\n            0.99905\n        ],\n        \"showlegend\": true,\n        \"mode\": \"lines\",\n        \"name\": \"SBMOF-1 Data\",\n        \"zmin\": null,\n        \"legendgroup\": \"SBMOF-1 Data\",\n        \"zmax\": null,\n        \"line\": {\n            \"color\": \"rgba(0, 154, 250, 1.000)\",\n            \"shape\": \"linear\",\n            \"dash\": \"solid\",\n            \"width\": 1\n        },\n        \"y\": [\n            3.0466209165759026e-7,\n            0.0005970615341259625,\n            0.005061808321845033,\n            0.012155712795046193,\n            0.02146336819175432,\n            0.029871661093889234,\n            0.2013383044031289,\n            0.38080819236364466,\n            0.6205547135033855,\n            0.9294166482599986,\n            1.0440701332134994,\n            1.1150525922935726,\n            1.2226874243105115,\n            1.327719680409466,\n            1.3788412177343803,\n            1.3839656341160609\n        ],\n        \"type\": \"scatter\"\n    },\n    {\n        \"xaxis\": \"x1\",\n        \"colorbar\": {\n            \"title\": \"\"\n        },\n        \"yaxis\": \"y1\",\n        \"x\": [\n            6.3e-5,\n            0.000222,\n            0.000398,\n            0.00058,\n            0.000803,\n            0.000985,\n            0.004966,\n            0.009976,\n            0.019989999999999997,\n            0.049991999999999995,\n            0.075125,\n            0.103119,\n            0.200047,\n            0.493105,\n            0.804104,\n            0.99905\n        ],\n        \"showlegend\": true,\n        \"mode\": \"lines\",\n        \"name\": \"SBMOF-1 Sim\",\n        \"zmin\": null,\n        \"legendgroup\": \"SBMOF-1 Sim\",\n        \"zmax\": null,\n        \"line\": {\n            \"color\": \"rgba(227, 111, 71, 1.000)\",\n            \"shape\": \"linear\",\n            \"dash\": \"solid\",\n            \"width\": 1\n        },\n        \"y\": [\n            0.012726592570713045,\n            0.043674685686636495,\n            0.08786125401020352,\n            0.11060087949108324,\n            0.14759648115546317,\n            0.1786161662485797,\n            0.7308315449629309,\n            0.9572581173030809,\n            1.1305316395330856,\n            1.255151250903472,\n            1.2894061241663946,\n            1.317548456017616,\n            1.3189384794433958,\n            1.3241551311805577,\n            1.3376845482659843,\n            1.3404920374783398\n        ],\n        \"type\": \"scatter\"\n    }\n]\n, {\n    \"showlegend\": true,\n    \"xaxis\": {\n        \"showticklabels\": true,\n        \"gridwidth\": 0.5,\n        \"tickvals\": [\n            0.0,\n            0.25,\n            0.5,\n            0.75,\n            1.0\n        ],\n        \"range\": [\n            -0.029906609999999997,\n            1.02901961\n        ],\n        \"domain\": [\n            0.084339457567804,\n            0.9934383202099738\n        ],\n        \"mirror\": false,\n        \"tickangle\": 0,\n        \"showline\": true,\n        \"ticktext\": [\n            \"0.00\",\n            \"0.25\",\n            \"0.50\",\n            \"0.75\",\n            \"1.00\"\n        ],\n        \"zeroline\": false,\n        \"tickfont\": {\n            \"color\": \"rgba(0, 0, 0, 1.000)\",\n            \"family\": \"sans-serif\",\n            \"size\": 11\n        },\n        \"zerolinecolor\": \"rgba(0, 0, 0, 1.000)\",\n        \"anchor\": \"y1\",\n        \"visible\": true,\n        \"ticks\": \"inside\",\n        \"tickmode\": \"array\",\n        \"linecolor\": \"rgba(0, 0, 0, 1.000)\",\n        \"showgrid\": true,\n        \"title\": \"Pressure (bar)\",\n        \"gridcolor\": \"rgba(0, 0, 0, 0.100)\",\n        \"titlefont\": {\n            \"color\": \"rgba(0, 0, 0, 1.000)\",\n            \"family\": \"sans-serif\",\n            \"size\": 11\n        },\n        \"tickcolor\": \"rgb(0, 0, 0)\",\n        \"type\": \"-\"\n    },\n    \"paper_bgcolor\": \"rgba(255, 255, 255, 1.000)\",\n    \"annotations\": [],\n    \"height\": 400,\n    \"margin\": {\n        \"l\": 0,\n        \"b\": 20,\n        \"r\": 0,\n        \"t\": 20\n    },\n    \"plot_bgcolor\": \"rgba(255, 255, 255, 1.000)\",\n    \"yaxis\": {\n        \"showticklabels\": true,\n        \"gridwidth\": 0.5,\n        \"tickvals\": [\n            0.0,\n            0.25,\n            0.5,\n            0.75,\n            1.0,\n            1.25\n        ],\n        \"range\": [\n            -0.041518655221527416,\n            1.4254845939996799\n        ],\n        \"domain\": [\n            0.06539807524059495,\n            0.9901574803149606\n        ],\n        \"mirror\": false,\n        \"tickangle\": 0,\n        \"showline\": true,\n        \"ticktext\": [\n            \"0.00\",\n            \"0.25\",\n            \"0.50\",\n            \"0.75\",\n            \"1.00\",\n            \"1.25\"\n        ],\n        \"zeroline\": false,\n        \"tickfont\": {\n            \"color\": \"rgba(0, 0, 0, 1.000)\",\n            \"family\": \"sans-serif\",\n            \"size\": 11\n        },\n        \"zerolinecolor\": \"rgba(0, 0, 0, 1.000)\",\n        \"anchor\": \"x1\",\n        \"visible\": true,\n        \"ticks\": \"inside\",\n        \"tickmode\": \"array\",\n        \"linecolor\": \"rgba(0, 0, 0, 1.000)\",\n        \"showgrid\": true,\n        \"title\": \"Adsorption (mmol/g)\",\n        \"gridcolor\": \"rgba(0, 0, 0, 0.100)\",\n        \"titlefont\": {\n            \"color\": \"rgba(0, 0, 0, 1.000)\",\n            \"family\": \"sans-serif\",\n            \"size\": 11\n        },\n        \"tickcolor\": \"rgb(0, 0, 0)\",\n        \"type\": \"-\"\n    },\n    \"legend\": {\n        \"tracegroupgap\": 0,\n        \"bordercolor\": \"rgba(0, 0, 0, 1.000)\",\n        \"bgcolor\": \"rgba(255, 255, 255, 1.000)\",\n        \"font\": {\n            \"color\": \"rgba(0, 0, 0, 1.000)\",\n            \"family\": \"sans-serif\",\n            \"size\": 11\n        },\n        \"y\": 0.0,\n        \"x\": 1.0\n    },\n    \"width\": 600\n}\n);\n    </script>\n\n    </body>\n</html>\n",
      "application/vnd.plotly.v1+json": {
       "layout": {
        "showlegend": true,
        "xaxis": {
         "showticklabels": true,
         "gridwidth": 0.5,
         "tickvals": [
          0,
          0.25,
          0.5,
          0.75,
          1
         ],
         "range": [
          -0.029906609999999997,
          1.02901961
         ],
         "domain": [
          0.084339457567804,
          0.9934383202099738
         ],
         "mirror": false,
         "tickangle": 0,
         "showline": true,
         "ticktext": [
          "0.00",
          "0.25",
          "0.50",
          "0.75",
          "1.00"
         ],
         "zeroline": false,
         "tickfont": {
          "color": "rgba(0, 0, 0, 1.000)",
          "family": "sans-serif",
          "size": 11
         },
         "zerolinecolor": "rgba(0, 0, 0, 1.000)",
         "anchor": "y1",
         "visible": true,
         "ticks": "inside",
         "tickmode": "array",
         "linecolor": "rgba(0, 0, 0, 1.000)",
         "showgrid": true,
         "title": "Pressure (bar)",
         "gridcolor": "rgba(0, 0, 0, 0.100)",
         "titlefont": {
          "color": "rgba(0, 0, 0, 1.000)",
          "family": "sans-serif",
          "size": 11
         },
         "tickcolor": "rgb(0, 0, 0)",
         "type": "-"
        },
        "paper_bgcolor": "rgba(255, 255, 255, 1.000)",
        "annotations": [],
        "height": 400,
        "margin": {
         "l": 0,
         "b": 20,
         "r": 0,
         "t": 20
        },
        "plot_bgcolor": "rgba(255, 255, 255, 1.000)",
        "yaxis": {
         "showticklabels": true,
         "gridwidth": 0.5,
         "tickvals": [
          0,
          0.25,
          0.5,
          0.75,
          1,
          1.25
         ],
         "range": [
          -0.041518655221527416,
          1.4254845939996799
         ],
         "domain": [
          0.06539807524059495,
          0.9901574803149606
         ],
         "mirror": false,
         "tickangle": 0,
         "showline": true,
         "ticktext": [
          "0.00",
          "0.25",
          "0.50",
          "0.75",
          "1.00",
          "1.25"
         ],
         "zeroline": false,
         "tickfont": {
          "color": "rgba(0, 0, 0, 1.000)",
          "family": "sans-serif",
          "size": 11
         },
         "zerolinecolor": "rgba(0, 0, 0, 1.000)",
         "anchor": "x1",
         "visible": true,
         "ticks": "inside",
         "tickmode": "array",
         "linecolor": "rgba(0, 0, 0, 1.000)",
         "showgrid": true,
         "title": "Adsorption (mmol/g)",
         "gridcolor": "rgba(0, 0, 0, 0.100)",
         "titlefont": {
          "color": "rgba(0, 0, 0, 1.000)",
          "family": "sans-serif",
          "size": 11
         },
         "tickcolor": "rgb(0, 0, 0)",
         "type": "-"
        },
        "legend": {
         "tracegroupgap": 0,
         "bordercolor": "rgba(0, 0, 0, 1.000)",
         "bgcolor": "rgba(255, 255, 255, 1.000)",
         "font": {
          "color": "rgba(0, 0, 0, 1.000)",
          "family": "sans-serif",
          "size": 11
         },
         "y": 0,
         "x": 1
        },
        "width": 600
       },
       "data": [
        {
         "xaxis": "x1",
         "colorbar": {
          "title": ""
         },
         "yaxis": "y1",
         "x": [
          0.000063,
          0.000222,
          0.000398,
          0.00058,
          0.000803,
          0.000985,
          0.004966,
          0.009976,
          0.019989999999999997,
          0.049991999999999995,
          0.075125,
          0.103119,
          0.200047,
          0.493105,
          0.804104,
          0.99905
         ],
         "showlegend": true,
         "mode": "lines",
         "name": "SBMOF-1 Data",
         "zmin": null,
         "legendgroup": "SBMOF-1 Data",
         "zmax": null,
         "line": {
          "color": "rgba(0, 154, 250, 1.000)",
          "shape": "linear",
          "dash": "solid",
          "width": 1
         },
         "y": [
          3.0466209165759026e-7,
          0.0005970615341259625,
          0.005061808321845033,
          0.012155712795046193,
          0.02146336819175432,
          0.029871661093889234,
          0.2013383044031289,
          0.38080819236364466,
          0.6205547135033855,
          0.9294166482599986,
          1.0440701332134994,
          1.1150525922935726,
          1.2226874243105115,
          1.327719680409466,
          1.3788412177343803,
          1.3839656341160609
         ],
         "type": "scatter"
        },
        {
         "xaxis": "x1",
         "colorbar": {
          "title": ""
         },
         "yaxis": "y1",
         "x": [
          0.000063,
          0.000222,
          0.000398,
          0.00058,
          0.000803,
          0.000985,
          0.004966,
          0.009976,
          0.019989999999999997,
          0.049991999999999995,
          0.075125,
          0.103119,
          0.200047,
          0.493105,
          0.804104,
          0.99905
         ],
         "showlegend": true,
         "mode": "lines",
         "name": "SBMOF-1 Sim",
         "zmin": null,
         "legendgroup": "SBMOF-1 Sim",
         "zmax": null,
         "line": {
          "color": "rgba(227, 111, 71, 1.000)",
          "shape": "linear",
          "dash": "solid",
          "width": 1
         },
         "y": [
          0.012726592570713045,
          0.043674685686636495,
          0.08786125401020352,
          0.11060087949108324,
          0.14759648115546317,
          0.1786161662485797,
          0.7308315449629309,
          0.9572581173030809,
          1.1305316395330856,
          1.255151250903472,
          1.2894061241663946,
          1.317548456017616,
          1.3189384794433958,
          1.3241551311805577,
          1.3376845482659843,
          1.3404920374783398
         ],
         "type": "scatter"
        }
       ]
      }
     },
     "metadata": {},
     "execution_count": 9
    }
   ],
   "source": [
    "p1 = plot(\n",
    "    sbmof1_pressures,\n",
    "    sbmof1_adsorptions,\n",
    "    label=\"SBMOF-1 Data\",\n",
    "    xaxis=(\"Pressure (bar)\", font(8)),\n",
    "    yaxis=(\"Adsorption (mmol/g)\", font(8)),\n",
    "    legend=:bottomright,\n",
    ")\n",
    "plot!(p1, sbmof1_pressures, sbmof1_sim_adsorptions, label=\"SBMOF-1 Sim\")"
   ]
  },
  {
   "cell_type": "code",
   "execution_count": 10,
   "metadata": {},
   "outputs": [
    {
     "output_type": "execute_result",
     "data": {
      "text/html": "<!DOCTYPE html>\n<html>\n    <head>\n        <title>Plots.jl</title>\n        <meta http-equiv=\"content-type\" content=\"text/html; charset=UTF-8\">\n        <script src=\"https://cdn.plot.ly/plotly-latest.min.js\"></script>\n    </head>\n    <body>\n            <div id=\"c5a5ee4a-7adb-4e0d-a40c-986374bd02fc\" style=\"width:600px;height:400px;\"></div>\n    <script>\n    PLOT = document.getElementById('c5a5ee4a-7adb-4e0d-a40c-986374bd02fc');\n    Plotly.plot(PLOT, [\n    {\n        \"xaxis\": \"x1\",\n        \"colorbar\": {\n            \"title\": \"\"\n        },\n        \"yaxis\": \"y1\",\n        \"x\": [\n            0.00406574389850439,\n            0.006098989150230248,\n            0.008129634616871672,\n            0.009153043348416531,\n            0.010129375971586349,\n            0.020293255757524043,\n            0.03002565121283307,\n            0.04026547138769861,\n            0.04922179766472638,\n            0.050470494439126365,\n            0.0988707600171719,\n            0.15118083571758067,\n            0.15563913383160327,\n            0.20518037175593484,\n            0.249754020334319,\n            0.25287776210499935,\n            0.30092445691156194,\n            0.3514416141598961,\n            0.3531854700011466,\n            0.4052198351602934,\n            0.4569088955313027,\n            0.4591007143409478,\n            0.5084299697891641,\n            0.5585644920019945,\n            0.5599057144609378,\n            0.6110934829387438,\n            0.6583455767656541,\n            0.6621572616663689,\n            0.7132357058483165,\n            0.7594038892784863,\n            0.764264820774816,\n            0.8150872861176809,\n            0.8596089389943764,\n            0.8660044103020818,\n            0.9168962032471982,\n            0.9569342267705869,\n            0.9678599902408068,\n            1.0017131917094853,\n            1.013477552522325\n        ],\n        \"showlegend\": true,\n        \"mode\": \"lines\",\n        \"name\": \"SBMOF-2 Data\",\n        \"zmin\": null,\n        \"legendgroup\": \"SBMOF-2 Data\",\n        \"zmax\": null,\n        \"line\": {\n            \"color\": \"rgba(0, 154, 250, 1.000)\",\n            \"shape\": \"linear\",\n            \"dash\": \"solid\",\n            \"width\": 1\n        },\n        \"y\": [\n            0.042363854267857146,\n            0.06377217160714287,\n            0.08508329339285715,\n            0.09570829339285714,\n            0.10582454459821429,\n            0.21026426174107146,\n            0.30558604986607146,\n            0.4020032358482143,\n            0.5161984660714286,\n            0.49448346116071434,\n            0.8756711410714286,\n            1.2124220995535715,\n            1.2814417544642858,\n            1.490783796875,\n            1.679134707589286,\n            1.7300215723214287,\n            1.859084371875,\n            2.042197986607143,\n            2.010672339285714,\n            2.137775647321429,\n            2.2446788111607145,\n            2.281315915625,\n            2.33657718125,\n            2.443779961607143,\n            2.4157298656250004,\n            2.485666346875,\n            2.5681687441964285,\n            2.546889980803572,\n            2.6021692232142857,\n            2.666143336607143,\n            2.651132550446429,\n            2.6958293383928575,\n            2.746009108482143,\n            2.7355644776785715,\n            2.771680249107143,\n            2.8081675455357145,\n            2.802978187946429,\n            2.8288470758928574,\n            2.8335989933035717\n        ],\n        \"type\": \"scatter\"\n    },\n    {\n        \"xaxis\": \"x1\",\n        \"colorbar\": {\n            \"title\": \"\"\n        },\n        \"yaxis\": \"y1\",\n        \"x\": [\n            0.00406574389850439,\n            0.006098989150230248,\n            0.008129634616871672,\n            0.009153043348416531,\n            0.010129375971586349,\n            0.020293255757524043,\n            0.03002565121283307,\n            0.04026547138769861,\n            0.04922179766472638,\n            0.050470494439126365,\n            0.0988707600171719,\n            0.15118083571758067,\n            0.15563913383160327,\n            0.20518037175593484,\n            0.249754020334319,\n            0.25287776210499935,\n            0.30092445691156194,\n            0.3514416141598961,\n            0.3531854700011466,\n            0.4052198351602934,\n            0.4569088955313027,\n            0.4591007143409478,\n            0.5084299697891641,\n            0.5585644920019945,\n            0.5599057144609378,\n            0.6110934829387438,\n            0.6583455767656541,\n            0.6621572616663689,\n            0.7132357058483165,\n            0.7594038892784863,\n            0.764264820774816,\n            0.8150872861176809,\n            0.8596089389943764,\n            0.8660044103020818,\n            0.9168962032471982,\n            0.9569342267705869,\n            0.9678599902408068,\n            1.0017131917094853,\n            1.013477552522325\n        ],\n        \"showlegend\": true,\n        \"mode\": \"lines\",\n        \"name\": \"SBMOF-2 Sim\",\n        \"zmin\": null,\n        \"legendgroup\": \"SBMOF-2 Sim\",\n        \"zmax\": null,\n        \"line\": {\n            \"color\": \"rgba(227, 111, 71, 1.000)\",\n            \"shape\": \"linear\",\n            \"dash\": \"solid\",\n            \"width\": 1\n        },\n        \"y\": [\n            0.15266760782397523,\n            0.2589993974725041,\n            0.2901172083027611,\n            0.37709467713739014,\n            0.41268943407330927,\n            0.7367545471852989,\n            0.9923591531090905,\n            1.1734614368462533,\n            1.3548031228672168,\n            1.2766356687719507,\n            1.7986893746506467,\n            2.1386275285985774,\n            2.177145045038991,\n            2.2947312151624994,\n            2.4558590935946936,\n            2.5222963814917496,\n            2.556004134138828,\n            2.500232100115773,\n            2.501460749447909,\n            2.6172708994139593,\n            2.6512744477754215,\n            2.657143536600124,\n            2.760281676553737,\n            2.764901280156031,\n            2.7130635885872065,\n            2.8179447979779293,\n            2.788221341294545,\n            2.7063990828198365,\n            2.7615517408626435,\n            2.7483125814792344,\n            2.851660841975378,\n            2.862671421485004,\n            2.8348067305179008,\n            2.790329727031843,\n            2.910547525128571,\n            2.8727256332976134,\n            2.9272755696637054,\n            2.8233164300549327,\n            2.9024508489671783\n        ],\n        \"type\": \"scatter\"\n    }\n]\n, {\n    \"showlegend\": true,\n    \"xaxis\": {\n        \"showticklabels\": true,\n        \"gridwidth\": 0.5,\n        \"tickvals\": [\n            0.0,\n            0.25,\n            0.5,\n            0.75,\n            1.0\n        ],\n        \"range\": [\n            -0.026216610360210228,\n            1.0437599067810397\n        ],\n        \"domain\": [\n            0.03989501312335958,\n            0.9934383202099737\n        ],\n        \"mirror\": false,\n        \"tickangle\": 0,\n        \"showline\": true,\n        \"ticktext\": [\n            \"0.00\",\n            \"0.25\",\n            \"0.50\",\n            \"0.75\",\n            \"1.00\"\n        ],\n        \"zeroline\": false,\n        \"tickfont\": {\n            \"color\": \"rgba(0, 0, 0, 1.000)\",\n            \"family\": \"sans-serif\",\n            \"size\": 11\n        },\n        \"zerolinecolor\": \"rgba(0, 0, 0, 1.000)\",\n        \"anchor\": \"y1\",\n        \"visible\": true,\n        \"ticks\": \"inside\",\n        \"tickmode\": \"array\",\n        \"linecolor\": \"rgba(0, 0, 0, 1.000)\",\n        \"showgrid\": true,\n        \"title\": \"Pressure (bar)\",\n        \"gridcolor\": \"rgba(0, 0, 0, 0.100)\",\n        \"titlefont\": {\n            \"color\": \"rgba(0, 0, 0, 1.000)\",\n            \"family\": \"sans-serif\",\n            \"size\": 11\n        },\n        \"tickcolor\": \"rgb(0, 0, 0)\",\n        \"type\": \"-\"\n    },\n    \"paper_bgcolor\": \"rgba(255, 255, 255, 1.000)\",\n    \"annotations\": [],\n    \"height\": 400,\n    \"margin\": {\n        \"l\": 0,\n        \"b\": 20,\n        \"r\": 0,\n        \"t\": 20\n    },\n    \"plot_bgcolor\": \"rgba(255, 255, 255, 1.000)\",\n    \"yaxis\": {\n        \"showticklabels\": true,\n        \"gridwidth\": 0.5,\n        \"tickvals\": [\n            0.0,\n            1.0,\n            2.0,\n            3.0\n        ],\n        \"range\": [\n            -0.04418349719401829,\n            3.013822921125581\n        ],\n        \"domain\": [\n            0.06539807524059495,\n            0.9901574803149606\n        ],\n        \"mirror\": false,\n        \"tickangle\": 0,\n        \"showline\": true,\n        \"ticktext\": [\n            \"0\",\n            \"1\",\n            \"2\",\n            \"3\"\n        ],\n        \"zeroline\": false,\n        \"tickfont\": {\n            \"color\": \"rgba(0, 0, 0, 1.000)\",\n            \"family\": \"sans-serif\",\n            \"size\": 11\n        },\n        \"zerolinecolor\": \"rgba(0, 0, 0, 1.000)\",\n        \"anchor\": \"x1\",\n        \"visible\": true,\n        \"ticks\": \"inside\",\n        \"tickmode\": \"array\",\n        \"linecolor\": \"rgba(0, 0, 0, 1.000)\",\n        \"showgrid\": true,\n        \"title\": \"Adsorption (mmol/g)\",\n        \"gridcolor\": \"rgba(0, 0, 0, 0.100)\",\n        \"titlefont\": {\n            \"color\": \"rgba(0, 0, 0, 1.000)\",\n            \"family\": \"sans-serif\",\n            \"size\": 11\n        },\n        \"tickcolor\": \"rgb(0, 0, 0)\",\n        \"type\": \"-\"\n    },\n    \"legend\": {\n        \"tracegroupgap\": 0,\n        \"bordercolor\": \"rgba(0, 0, 0, 1.000)\",\n        \"bgcolor\": \"rgba(255, 255, 255, 1.000)\",\n        \"font\": {\n            \"color\": \"rgba(0, 0, 0, 1.000)\",\n            \"family\": \"sans-serif\",\n            \"size\": 11\n        },\n        \"y\": 0.0,\n        \"x\": 1.0\n    },\n    \"width\": 600\n}\n);\n    </script>\n\n    </body>\n</html>\n",
      "application/vnd.plotly.v1+json": {
       "layout": {
        "showlegend": true,
        "xaxis": {
         "showticklabels": true,
         "gridwidth": 0.5,
         "tickvals": [
          0,
          0.25,
          0.5,
          0.75,
          1
         ],
         "range": [
          -0.026216610360210228,
          1.0437599067810397
         ],
         "domain": [
          0.03989501312335958,
          0.9934383202099737
         ],
         "mirror": false,
         "tickangle": 0,
         "showline": true,
         "ticktext": [
          "0.00",
          "0.25",
          "0.50",
          "0.75",
          "1.00"
         ],
         "zeroline": false,
         "tickfont": {
          "color": "rgba(0, 0, 0, 1.000)",
          "family": "sans-serif",
          "size": 11
         },
         "zerolinecolor": "rgba(0, 0, 0, 1.000)",
         "anchor": "y1",
         "visible": true,
         "ticks": "inside",
         "tickmode": "array",
         "linecolor": "rgba(0, 0, 0, 1.000)",
         "showgrid": true,
         "title": "Pressure (bar)",
         "gridcolor": "rgba(0, 0, 0, 0.100)",
         "titlefont": {
          "color": "rgba(0, 0, 0, 1.000)",
          "family": "sans-serif",
          "size": 11
         },
         "tickcolor": "rgb(0, 0, 0)",
         "type": "-"
        },
        "paper_bgcolor": "rgba(255, 255, 255, 1.000)",
        "annotations": [],
        "height": 400,
        "margin": {
         "l": 0,
         "b": 20,
         "r": 0,
         "t": 20
        },
        "plot_bgcolor": "rgba(255, 255, 255, 1.000)",
        "yaxis": {
         "showticklabels": true,
         "gridwidth": 0.5,
         "tickvals": [
          0,
          1,
          2,
          3
         ],
         "range": [
          -0.04418349719401829,
          3.013822921125581
         ],
         "domain": [
          0.06539807524059495,
          0.9901574803149606
         ],
         "mirror": false,
         "tickangle": 0,
         "showline": true,
         "ticktext": [
          "0",
          "1",
          "2",
          "3"
         ],
         "zeroline": false,
         "tickfont": {
          "color": "rgba(0, 0, 0, 1.000)",
          "family": "sans-serif",
          "size": 11
         },
         "zerolinecolor": "rgba(0, 0, 0, 1.000)",
         "anchor": "x1",
         "visible": true,
         "ticks": "inside",
         "tickmode": "array",
         "linecolor": "rgba(0, 0, 0, 1.000)",
         "showgrid": true,
         "title": "Adsorption (mmol/g)",
         "gridcolor": "rgba(0, 0, 0, 0.100)",
         "titlefont": {
          "color": "rgba(0, 0, 0, 1.000)",
          "family": "sans-serif",
          "size": 11
         },
         "tickcolor": "rgb(0, 0, 0)",
         "type": "-"
        },
        "legend": {
         "tracegroupgap": 0,
         "bordercolor": "rgba(0, 0, 0, 1.000)",
         "bgcolor": "rgba(255, 255, 255, 1.000)",
         "font": {
          "color": "rgba(0, 0, 0, 1.000)",
          "family": "sans-serif",
          "size": 11
         },
         "y": 0,
         "x": 1
        },
        "width": 600
       },
       "data": [
        {
         "xaxis": "x1",
         "colorbar": {
          "title": ""
         },
         "yaxis": "y1",
         "x": [
          0.00406574389850439,
          0.006098989150230248,
          0.008129634616871672,
          0.009153043348416531,
          0.010129375971586349,
          0.020293255757524043,
          0.03002565121283307,
          0.04026547138769861,
          0.04922179766472638,
          0.050470494439126365,
          0.0988707600171719,
          0.15118083571758067,
          0.15563913383160327,
          0.20518037175593484,
          0.249754020334319,
          0.25287776210499935,
          0.30092445691156194,
          0.3514416141598961,
          0.3531854700011466,
          0.4052198351602934,
          0.4569088955313027,
          0.4591007143409478,
          0.5084299697891641,
          0.5585644920019945,
          0.5599057144609378,
          0.6110934829387438,
          0.6583455767656541,
          0.6621572616663689,
          0.7132357058483165,
          0.7594038892784863,
          0.764264820774816,
          0.8150872861176809,
          0.8596089389943764,
          0.8660044103020818,
          0.9168962032471982,
          0.9569342267705869,
          0.9678599902408068,
          1.0017131917094853,
          1.013477552522325
         ],
         "showlegend": true,
         "mode": "lines",
         "name": "SBMOF-2 Data",
         "zmin": null,
         "legendgroup": "SBMOF-2 Data",
         "zmax": null,
         "line": {
          "color": "rgba(0, 154, 250, 1.000)",
          "shape": "linear",
          "dash": "solid",
          "width": 1
         },
         "y": [
          0.042363854267857146,
          0.06377217160714287,
          0.08508329339285715,
          0.09570829339285714,
          0.10582454459821429,
          0.21026426174107146,
          0.30558604986607146,
          0.4020032358482143,
          0.5161984660714286,
          0.49448346116071434,
          0.8756711410714286,
          1.2124220995535715,
          1.2814417544642858,
          1.490783796875,
          1.679134707589286,
          1.7300215723214287,
          1.859084371875,
          2.042197986607143,
          2.010672339285714,
          2.137775647321429,
          2.2446788111607145,
          2.281315915625,
          2.33657718125,
          2.443779961607143,
          2.4157298656250004,
          2.485666346875,
          2.5681687441964285,
          2.546889980803572,
          2.6021692232142857,
          2.666143336607143,
          2.651132550446429,
          2.6958293383928575,
          2.746009108482143,
          2.7355644776785715,
          2.771680249107143,
          2.8081675455357145,
          2.802978187946429,
          2.8288470758928574,
          2.8335989933035717
         ],
         "type": "scatter"
        },
        {
         "xaxis": "x1",
         "colorbar": {
          "title": ""
         },
         "yaxis": "y1",
         "x": [
          0.00406574389850439,
          0.006098989150230248,
          0.008129634616871672,
          0.009153043348416531,
          0.010129375971586349,
          0.020293255757524043,
          0.03002565121283307,
          0.04026547138769861,
          0.04922179766472638,
          0.050470494439126365,
          0.0988707600171719,
          0.15118083571758067,
          0.15563913383160327,
          0.20518037175593484,
          0.249754020334319,
          0.25287776210499935,
          0.30092445691156194,
          0.3514416141598961,
          0.3531854700011466,
          0.4052198351602934,
          0.4569088955313027,
          0.4591007143409478,
          0.5084299697891641,
          0.5585644920019945,
          0.5599057144609378,
          0.6110934829387438,
          0.6583455767656541,
          0.6621572616663689,
          0.7132357058483165,
          0.7594038892784863,
          0.764264820774816,
          0.8150872861176809,
          0.8596089389943764,
          0.8660044103020818,
          0.9168962032471982,
          0.9569342267705869,
          0.9678599902408068,
          1.0017131917094853,
          1.013477552522325
         ],
         "showlegend": true,
         "mode": "lines",
         "name": "SBMOF-2 Sim",
         "zmin": null,
         "legendgroup": "SBMOF-2 Sim",
         "zmax": null,
         "line": {
          "color": "rgba(227, 111, 71, 1.000)",
          "shape": "linear",
          "dash": "solid",
          "width": 1
         },
         "y": [
          0.15266760782397523,
          0.2589993974725041,
          0.2901172083027611,
          0.37709467713739014,
          0.41268943407330927,
          0.7367545471852989,
          0.9923591531090905,
          1.1734614368462533,
          1.3548031228672168,
          1.2766356687719507,
          1.7986893746506467,
          2.1386275285985774,
          2.177145045038991,
          2.2947312151624994,
          2.4558590935946936,
          2.5222963814917496,
          2.556004134138828,
          2.500232100115773,
          2.501460749447909,
          2.6172708994139593,
          2.6512744477754215,
          2.657143536600124,
          2.760281676553737,
          2.764901280156031,
          2.7130635885872065,
          2.8179447979779293,
          2.788221341294545,
          2.7063990828198365,
          2.7615517408626435,
          2.7483125814792344,
          2.851660841975378,
          2.862671421485004,
          2.8348067305179008,
          2.790329727031843,
          2.910547525128571,
          2.8727256332976134,
          2.9272755696637054,
          2.8233164300549327,
          2.9024508489671783
         ],
         "type": "scatter"
        }
       ]
      }
     },
     "metadata": {},
     "execution_count": 10
    }
   ],
   "source": [
    "p2 = plot(\n",
    "    sbmof2_pressures,\n",
    "    sbmof2_adsorptions,\n",
    "    label=\"SBMOF-2 Data\",\n",
    "    xaxis=(\"Pressure (bar)\", font(8)),\n",
    "    yaxis=(\"Adsorption (mmol/g)\", font(8)),\n",
    "    legend=:bottomright,\n",
    ")\n",
    "plot!(p2, sbmof2_pressures, sbmof2_sim_adsorptions, label=\"SBMOF-2 Sim\")"
   ]
  },
  {
   "cell_type": "code",
   "execution_count": null,
   "metadata": {},
   "outputs": [],
   "source": [
    "open(\"data/sbmof1-sim.json\", \"w\") do io\n",
    "    JSON.print(io, sbmof1_results, 4)\n",
    "end"
   ]
  },
  {
   "cell_type": "code",
   "execution_count": null,
   "metadata": {},
   "outputs": [],
   "source": [
    "open(\"data/sbmof2-sim.json\", \"w\") do io\n",
    "    JSON.print(io, sbmof2_results, 4)\n",
    "end"
   ]
  }
 ]
}